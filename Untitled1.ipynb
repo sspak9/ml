{
 "cells": [
  {
   "cell_type": "code",
   "execution_count": 1,
   "metadata": {},
   "outputs": [
    {
     "name": "stdout",
     "output_type": "stream",
     "text": [
      "loading MNIST data...\n",
      "x train shape: (60000, 28, 28, 1)\n",
      "y train shape: (60000, 10)\n",
      "x test shape: (10000, 28, 28, 1)\n",
      "y test shape: (10000, 10)\n",
      "WARNING:tensorflow:From f:\\program files\\python36\\lib\\site-packages\\tensorflow\\python\\ops\\resource_variable_ops.py:435: colocate_with (from tensorflow.python.framework.ops) is deprecated and will be removed in a future version.\n",
      "Instructions for updating:\n",
      "Colocations handled automatically by placer.\n",
      "WARNING:tensorflow:From f:\\program files\\python36\\lib\\site-packages\\tensorflow\\python\\keras\\layers\\core.py:143: calling dropout (from tensorflow.python.ops.nn_ops) with keep_prob is deprecated and will be removed in a future version.\n",
      "Instructions for updating:\n",
      "Please use `rate` instead of `keep_prob`. Rate should be set to `rate = 1 - keep_prob`.\n",
      "_________________________________________________________________\n",
      "Layer (type)                 Output Shape              Param #   \n",
      "=================================================================\n",
      "conv2d (Conv2D)              (None, 26, 26, 32)        320       \n",
      "_________________________________________________________________\n",
      "max_pooling2d (MaxPooling2D) (None, 13, 13, 32)        0         \n",
      "_________________________________________________________________\n",
      "conv2d_1 (Conv2D)            (None, 11, 11, 64)        18496     \n",
      "_________________________________________________________________\n",
      "max_pooling2d_1 (MaxPooling2 (None, 5, 5, 64)          0         \n",
      "_________________________________________________________________\n",
      "dropout (Dropout)            (None, 5, 5, 64)          0         \n",
      "_________________________________________________________________\n",
      "flatten (Flatten)            (None, 1600)              0         \n",
      "_________________________________________________________________\n",
      "dense (Dense)                (None, 256)               409856    \n",
      "_________________________________________________________________\n",
      "dropout_1 (Dropout)          (None, 256)               0         \n",
      "_________________________________________________________________\n",
      "dense_1 (Dense)              (None, 10)                2570      \n",
      "=================================================================\n",
      "Total params: 431,242\n",
      "Trainable params: 431,242\n",
      "Non-trainable params: 0\n",
      "_________________________________________________________________\n",
      "Train on 60000 samples, validate on 10000 samples\n",
      "WARNING:tensorflow:From f:\\program files\\python36\\lib\\site-packages\\tensorflow\\python\\ops\\math_ops.py:3066: to_int32 (from tensorflow.python.ops.math_ops) is deprecated and will be removed in a future version.\n",
      "Instructions for updating:\n",
      "Use tf.cast instead.\n",
      "Epoch 1/3\n",
      "60000/60000 [==============================] - 6s 93us/sample - loss: 0.2794 - acc: 0.9132 - val_loss: 0.0557 - val_acc: 0.9820\n",
      "Epoch 2/3\n",
      "60000/60000 [==============================] - 4s 73us/sample - loss: 0.0959 - acc: 0.9712 - val_loss: 0.0407 - val_acc: 0.9866\n",
      "Epoch 3/3\n",
      "60000/60000 [==============================] - 4s 73us/sample - loss: 0.0733 - acc: 0.9774 - val_loss: 0.0300 - val_acc: 0.9897\n"
     ]
    }
   ],
   "source": [
    "import os\n",
    "import numpy as np\n",
    "#import keras\n",
    "\n",
    "import tensorflow as tf\n",
    "from tensorflow import keras\n",
    "\n",
    "mnist = keras.datasets.mnist\n",
    "\n",
    "print('loading MNIST data...')\n",
    "\n",
    "(x_train, y_train),(x_test, y_test) = mnist.load_data()\n",
    "\n",
    "# convert the shape of data depending on the image dataformat\n",
    "is_channels_first = (keras.backend.image_data_format() == 'channels_first')\n",
    "\n",
    "if is_channels_first:\n",
    "    x_train2 = x_train.reshape(x_train.shape[0], 1, 28, 28)\n",
    "    x_test2 = x_test.reshape(x_test.shape[0], 1, 28, 28)\n",
    "    input_shape = (1, 28, 28)\n",
    "else:\n",
    "    x_train2 = x_train.reshape(x_train.shape[0], 28, 28, 1)\n",
    "    x_test2 = x_test.reshape(x_test.shape[0], 28, 28, 1)\n",
    "    input_shape = (28, 28, 1)\n",
    "\n",
    "# get hot label output\n",
    "\n",
    "y_train2 = keras.utils.to_categorical(y_train, num_classes=10)\n",
    "y_test2 = keras.utils.to_categorical(y_test, num_classes=10)\n",
    "\n",
    "# normalize the data\n",
    "x_train2 = x_train2.astype('float32')\n",
    "x_test2 = x_test2.astype('float32')\n",
    "\n",
    "# convert the data from 0 to 1.0\n",
    "x_train2, x_test2 = x_train2 / 255, x_test2 / 255\n",
    "\n",
    "print('x train shape:',x_train2.shape)\n",
    "print('y train shape:',y_train2.shape)\n",
    "print('x test shape:',x_test2.shape)\n",
    "print('y test shape:',y_test2.shape)\n",
    "\n",
    "\n",
    "\n",
    "model = keras.models.Sequential()\n",
    "\n",
    "model.add( keras.layers.Conv2D(32, kernel_size=(3,3), input_shape=input_shape , activation='relu' ))\n",
    "model.add( keras.layers.MaxPooling2D(pool_size=(2,2)))\n",
    "model.add( keras.layers.Conv2D(64, kernel_size=(3,3),   activation='relu' ))\n",
    "model.add( keras.layers.MaxPooling2D(pool_size=(2,2)))\n",
    "\n",
    "model.add( keras.layers.Dropout(0.5))\n",
    "\n",
    "model.add( keras.layers.Flatten())\n",
    "model.add( keras.layers.Dense(256,activation='relu'))\n",
    "model.add( keras.layers.Dropout(0.5))\n",
    "model.add( keras.layers.Dense(10, activation='softmax'))\n",
    "\n",
    "\n",
    "model.compile(loss='categorical_crossentropy', optimizer='adam',metrics=['accuracy'])\n",
    "\n",
    "model.summary()\n",
    "save_history = model.fit( x_train2, \n",
    "                y_train2, \n",
    "                epochs=3 , \n",
    "                batch_size=128, \n",
    "                validation_data=(x_test2,y_test2))"
   ]
  },
  {
   "cell_type": "code",
   "execution_count": 2,
   "metadata": {},
   "outputs": [
    {
     "data": {
      "text/plain": [
       "<tensorflow.python.keras.callbacks.History at 0x211cbb129e8>"
      ]
     },
     "execution_count": 2,
     "metadata": {},
     "output_type": "execute_result"
    }
   ],
   "source": [
    "save_history"
   ]
  },
  {
   "cell_type": "code",
   "execution_count": 5,
   "metadata": {},
   "outputs": [
    {
     "name": "stdout",
     "output_type": "stream",
     "text": [
      "{'loss': [0.27938761405944823, 0.09591078883608183, 0.07326328652103742], 'acc': [0.91321665, 0.9712167, 0.9774167], 'val_loss': [0.055715550673007964, 0.04071524995565414, 0.030005400913953782], 'val_acc': [0.982, 0.9866, 0.9897]}\n"
     ]
    }
   ],
   "source": [
    "print(save_history.history)"
   ]
  },
  {
   "cell_type": "code",
   "execution_count": 6,
   "metadata": {},
   "outputs": [
    {
     "name": "stdout",
     "output_type": "stream",
     "text": [
      "[0.27938761405944823, 0.09591078883608183, 0.07326328652103742] [0.055715550673007964, 0.04071524995565414, 0.030005400913953782]\n"
     ]
    }
   ],
   "source": [
    "import numpy as np\n",
    "x = save_history.history['loss']\n",
    "y = save_history.history['val_loss']\n",
    "print(x,y)"
   ]
  },
  {
   "cell_type": "code",
   "execution_count": null,
   "metadata": {},
   "outputs": [],
   "source": []
  }
 ],
 "metadata": {
  "kernelspec": {
   "display_name": "Python 3",
   "language": "python",
   "name": "python3"
  },
  "language_info": {
   "codemirror_mode": {
    "name": "ipython",
    "version": 3
   },
   "file_extension": ".py",
   "mimetype": "text/x-python",
   "name": "python",
   "nbconvert_exporter": "python",
   "pygments_lexer": "ipython3",
   "version": "3.6.8"
  }
 },
 "nbformat": 4,
 "nbformat_minor": 2
}
