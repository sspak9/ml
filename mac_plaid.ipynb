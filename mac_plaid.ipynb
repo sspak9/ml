{
 "cells": [
  {
   "cell_type": "markdown",
   "metadata": {},
   "source": [
    "# Using keras and plaidml\n",
    "\n",
    "The ONLY reason I am using plaidml on MAC is that no other GPU accelerated keras backend is avaliable\n",
    "\n",
    "The following python code checks the version of keras and if you are using plaidml\n",
    "\n",
    "The expected output is: `keras_version: 2.2.4 backend: plaidml.keras.backend`\n",
    "\n",
    "If not, go to plaidml page at: <a href=\"https://github.com/plaidml/plaidml\">https://github.com/plaidml/plaidml</a> and follow the steps to install and setup plaidml."
   ]
  },
  {
   "cell_type": "code",
   "execution_count": 109,
   "metadata": {},
   "outputs": [
    {
     "name": "stdout",
     "output_type": "stream",
     "text": [
      "keras_version: 2.2.4 backend: plaidml.keras.backend\n"
     ]
    }
   ],
   "source": [
    "import os\n",
    "os.environ[\"KERAS_BACKEND\"] = \"plaidml.keras.backend\"\n",
    "import keras\n",
    "import numpy as np\n",
    "\n",
    "print('keras_version:', keras.__version__ , 'backend:',keras.backend.backend())"
   ]
  },
  {
   "cell_type": "markdown",
   "metadata": {},
   "source": [
    "If the backend is NOT plaidml.keras.backend, update the `~/.keras/keras.json` file as below:\n",
    "```json\n",
    "{\n",
    "    \"epsilon\": 1e-07,\n",
    "    \"floatx\": \"float32\",\n",
    "    \"image_data_format\": \"channels_last\",\n",
    "    \"backend\": \"plaidml.keras.backend\"\n",
    "}\n",
    "```\n",
    "If you are still having problem, then VERIFY that you are using one of the plaidml supported GPU card."
   ]
  },
  {
   "cell_type": "markdown",
   "metadata": {},
   "source": [
    "## Demo: Using CNN network to classify MNIST digits\n",
    "\n",
    "The code below will download MNIST digit and run a short (5 epoch) training session.\n",
    "Though plaidml uses image_data_format() of \"channel_last\", it is ALWAYS good idea to check and convert training data to fit the image data format."
   ]
  },
  {
   "cell_type": "code",
   "execution_count": 110,
   "metadata": {},
   "outputs": [
    {
     "name": "stdout",
     "output_type": "stream",
     "text": [
      "backend image data format: channels_last\n"
     ]
    }
   ],
   "source": [
    "backend_format = keras.backend.image_data_format()\n",
    "print('backend image data format:', backend_format)"
   ]
  },
  {
   "cell_type": "code",
   "execution_count": 111,
   "metadata": {},
   "outputs": [
    {
     "name": "stdout",
     "output_type": "stream",
     "text": [
      "x_train.shape: (60000, 28, 28) y_train.shape: (60000,)\n",
      "x_test.shape: (10000, 28, 28) y_test.shape: (10000,)\n"
     ]
    },
    {
     "data": {
      "image/png": "[encoded data removed]",
      "text/plain": [
       "<Figure size 432x288 with 1 Axes>"
      ]
     },
     "metadata": {},
     "output_type": "display_data"
    }
   ],
   "source": [
    "# get mnist data\n",
    "mnist = keras.datasets.mnist\n",
    "\n",
    "(x_train, y_train),(x_test, y_test) = mnist.load_data()\n",
    "\n",
    "print('x_train.shape:', x_train.shape,'y_train.shape:',y_train.shape)\n",
    "print('x_test.shape:', x_test.shape , 'y_test.shape:', y_test.shape)\n",
    "\n",
    "# normalize the datq\n",
    "x_train = x_train.astype('float32')\n",
    "x_test = x_test.astype('float32')\n",
    "\n",
    "# convert the data from 0 to 1.0\n",
    "x_train, x_test = x_train / 255, x_test / 255\n",
    "\n",
    "x_test2 = x_test\n",
    "\n",
    "# show 2nd digit using matplotlib\n",
    "%matplotlib inline\n",
    "from matplotlib import pyplot as plt\n",
    "plt.figure\n",
    "plt.grid(False)\n",
    "plt.xticks([])\n",
    "plt.yticks([])\n",
    "plt.xlabel('the y_train[0] value='+str(y_train[0]))\n",
    "plt.imshow(x_train[0] , cmap='gray_r')\n",
    "plt.show()\n",
    "plt.close()"
   ]
  },
  {
   "cell_type": "code",
   "execution_count": 112,
   "metadata": {},
   "outputs": [
    {
     "name": "stdout",
     "output_type": "stream",
     "text": [
      "y_test[0] [0. 0. 0. 0. 0. 0. 0. 1. 0. 0.]\n"
     ]
    }
   ],
   "source": [
    "# convert the shape of data depending on the image data format\n",
    "\n",
    "if backend_format == 'channels_first':\n",
    "  x_train = x_train.reshape(x_train.shape[0], 1, 28, 28)\n",
    "  x_test = x_test.reshape(x_test.shape[0], 1, 28, 28)\n",
    "  input_shape = (1, 28, 28)\n",
    "else:\n",
    "  x_train = x_train.reshape(x_train.shape[0], 28, 28, 1)\n",
    "  x_test = x_test.reshape(x_test.shape[0], 28, 28, 1)\n",
    "  input_shape = (28, 28, 1)\n",
    "\n",
    "# get hot label output\n",
    "\n",
    "y_train = keras.utils.to_categorical(y_train, num_classes=10)\n",
    "y_test = keras.utils.to_categorical(y_test, num_classes=10)\n",
    "\n",
    "print('y_test[0]', y_test[0])"
   ]
  },
  {
   "cell_type": "code",
   "execution_count": 113,
   "metadata": {},
   "outputs": [
    {
     "name": "stdout",
     "output_type": "stream",
     "text": [
      "_________________________________________________________________\n",
      "Layer (type)                 Output Shape              Param #   \n",
      "=================================================================\n",
      "conv2d_19 (Conv2D)           (None, 26, 26, 32)        320       \n",
      "_________________________________________________________________\n",
      "conv2d_20 (Conv2D)           (None, 24, 24, 32)        9248      \n",
      "_________________________________________________________________\n",
      "dropout_19 (Dropout)         (None, 24, 24, 32)        0         \n",
      "_________________________________________________________________\n",
      "max_pooling2d_13 (MaxPooling (None, 12, 12, 32)        0         \n",
      "_________________________________________________________________\n",
      "conv2d_21 (Conv2D)           (None, 10, 10, 64)        18496     \n",
      "_________________________________________________________________\n",
      "max_pooling2d_14 (MaxPooling (None, 5, 5, 64)          0         \n",
      "_________________________________________________________________\n",
      "dropout_20 (Dropout)         (None, 5, 5, 64)          0         \n",
      "_________________________________________________________________\n",
      "flatten_7 (Flatten)          (None, 1600)              0         \n",
      "_________________________________________________________________\n",
      "dense_13 (Dense)             (None, 265)               424265    \n",
      "_________________________________________________________________\n",
      "dropout_21 (Dropout)         (None, 265)               0         \n",
      "_________________________________________________________________\n",
      "dense_14 (Dense)             (None, 10)                2660      \n",
      "=================================================================\n",
      "Total params: 454,989\n",
      "Trainable params: 454,989\n",
      "Non-trainable params: 0\n",
      "_________________________________________________________________\n"
     ]
    }
   ],
   "source": [
    "# setup model and compile\n",
    "\n",
    "model = keras.models.Sequential()\n",
    "model.add( keras.layers.Conv2D(32, kernel_size=(3,3),\n",
    "input_shape=input_shape , activation='relu' ))\n",
    "model.add( keras.layers.Conv2D(32, kernel_size=(3,3), activation='relu' ))\n",
    "model.add( keras.layers.Dropout(0.05))\n",
    "model.add( keras.layers.MaxPooling2D(pool_size=(2,2)))\n",
    "model.add( keras.layers.Conv2D(64, kernel_size=(3,3), activation='relu' ))\n",
    "model.add( keras.layers.MaxPooling2D(pool_size=(2,2)))\n",
    "model.add( keras.layers.Dropout(0.5))\n",
    "model.add( keras.layers.Flatten())\n",
    "model.add( keras.layers.Dense(265, activation='relu'))\n",
    "model.add( keras.layers.Dropout(0.5))\n",
    "model.add( keras.layers.Dense(10, activation='softmax'))\n",
    "\n",
    "# compile to model\n",
    "model.compile(optimizer='adam',\n",
    "              loss='categorical_crossentropy',\n",
    "              metrics=['accuracy'])\n",
    "\n",
    "# show summary\n",
    "model.summary()"
   ]
  },
  {
   "cell_type": "code",
   "execution_count": 114,
   "metadata": {},
   "outputs": [
    {
     "name": "stdout",
     "output_type": "stream",
     "text": [
      "Train on 60000 samples, validate on 10000 samples\n",
      "Epoch 1/5\n",
      "60000/60000 [==============================] - 21s 351us/step - loss: 0.2942 - acc: 0.9062 - val_loss: 0.0512 - val_acc: 0.9829\n",
      "Epoch 2/5\n",
      "60000/60000 [==============================] - 16s 275us/step - loss: 0.0940 - acc: 0.9708 - val_loss: 0.0353 - val_acc: 0.9881\n",
      "Epoch 3/5\n",
      "60000/60000 [==============================] - 17s 275us/step - loss: 0.0688 - acc: 0.9788 - val_loss: 0.0295 - val_acc: 0.9899\n",
      "Epoch 4/5\n",
      "60000/60000 [==============================] - 17s 275us/step - loss: 0.0584 - acc: 0.9812 - val_loss: 0.0240 - val_acc: 0.9921\n",
      "Epoch 5/5\n",
      "60000/60000 [==============================] - 16s 274us/step - loss: 0.0509 - acc: 0.9845 - val_loss: 0.0238 - val_acc: 0.9916\n"
     ]
    }
   ],
   "source": [
    "#train the model with train data\n",
    "fit_history = model.fit(x_train, y_train,\n",
    "  epochs=5 ,\n",
    "  batch_size=200,\n",
    "  validation_data=(x_test,y_test)\n",
    ")\n"
   ]
  },
  {
   "cell_type": "markdown",
   "metadata": {},
   "source": [
    "### as long as the model loss continue to decrease, you should extend the epoch to get better results\n",
    "\n",
    "This 5 epoch run can be extended to longer value"
   ]
  },
  {
   "cell_type": "code",
   "execution_count": 115,
   "metadata": {},
   "outputs": [
    {
     "data": {
      "image/png": "[encoded data removed]",
      "text/plain": [
       "<Figure size 432x288 with 1 Axes>"
      ]
     },
     "metadata": {
      "needs_background": "light"
     },
     "output_type": "display_data"
    },
    {
     "data": {
      "image/png": "[encoded data removed]",
      "text/plain": [
       "<Figure size 432x288 with 1 Axes>"
      ]
     },
     "metadata": {
      "needs_background": "light"
     },
     "output_type": "display_data"
    }
   ],
   "source": [
    "# show procession of training...\n",
    "plt.plot(fit_history.history['loss'])\n",
    "plt.plot(fit_history.history['val_loss'])\n",
    " \n",
    "plt.title('model loss')\n",
    "plt.ylabel('loss')\n",
    "plt.xlabel('epoch')\n",
    "plt.legend(['train', 'test'], loc='upper left')\n",
    "plt.show()\n",
    "\n",
    "plt.plot(fit_history.history['acc'])\n",
    "plt.plot(fit_history.history['val_acc'])\n",
    " \n",
    "plt.title('model accuracy')\n",
    "plt.ylabel('accuracy')\n",
    "plt.xlabel('epoch')\n",
    "plt.legend(['train', 'test'], loc='upper left')\n",
    "plt.show()\n"
   ]
  },
  {
   "cell_type": "code",
   "execution_count": 116,
   "metadata": {},
   "outputs": [
    {
     "data": {
      "image/png": "[encoded data removed]",
      "text/plain": [
       "<Figure size 432x288 with 1 Axes>"
      ]
     },
     "metadata": {},
     "output_type": "display_data"
    },
    {
     "data": {
      "image/png": "[encoded data removed]",
      "text/plain": [
       "<Figure size 432x288 with 1 Axes>"
      ]
     },
     "metadata": {},
     "output_type": "display_data"
    }
   ],
   "source": [
    "# predict how the x_test data performs against y_test label\n",
    "\n",
    "predictions = model.predict(x_test)\n",
    "correct_label = ''\n",
    "wrong_label = ''\n",
    "\n",
    "def find_match(isMatch): \n",
    "    global correct_label, wrong_label\n",
    "    for i in range(10000):\n",
    "        expected = np.argmax(y_test[i])\n",
    "        guess = np.argmax(predictions[i])\n",
    "        if isMatch:\n",
    "            if guess == expected:\n",
    "                \n",
    "                correct_label ='correct: expect: ' + str(expected) + ' guess: ' + str(guess) + \" ({:2.0f}%) , \".format(predictions[i][guess]*100.0)\n",
    "                return i\n",
    "        else:\n",
    "            if guess != expected:\n",
    "                \n",
    "                wrong_label ='*** WRONG expect: ' + str(expected) + ' guess: ' + str(guess) + \" ({:2.0f}%) , \".format(predictions[i][guess]*100.0)\n",
    "                return i\n",
    "\n",
    "        \n",
    "# find matched index and missed index\n",
    "correct_index = find_match(True)\n",
    "wronte_index = find_match(False)\n",
    "\n",
    "# show 0ne match and wrong\n",
    "\n",
    "plt.figure\n",
    "plt.grid(False)\n",
    "plt.xticks([])\n",
    "plt.yticks([])\n",
    "plt.xlabel(correct_label)\n",
    "plt.imshow(x_test2[correct_index] , cmap='gray_r')\n",
    "plt.show()\n",
    "plt.close()\n",
    "\n",
    "\n",
    "plt.figure\n",
    "plt.grid(False)\n",
    "plt.xticks([])\n",
    "plt.yticks([])\n",
    "plt.xlabel(wrong_label)\n",
    "plt.imshow(x_test2[wrong_index] , cmap='gray_r')\n",
    "plt.show()\n",
    "plt.close()"
   ]
  },
  {
   "cell_type": "code",
   "execution_count": 117,
   "metadata": {},
   "outputs": [
    {
     "name": "stdout",
     "output_type": "stream",
     "text": [
      "Train on 60000 samples, validate on 10000 samples\n",
      "Epoch 1/45\n",
      "60000/60000 [==============================] - 16s 275us/step - loss: 0.0447 - acc: 0.9861 - val_loss: 0.0217 - val_acc: 0.9924\n",
      "Epoch 2/45\n",
      "60000/60000 [==============================] - 16s 274us/step - loss: 0.0393 - acc: 0.9869 - val_loss: 0.0252 - val_acc: 0.9914\n",
      "Epoch 3/45\n",
      "60000/60000 [==============================] - 17s 275us/step - loss: 0.0377 - acc: 0.9885 - val_loss: 0.0238 - val_acc: 0.9919\n",
      "Epoch 4/45\n",
      "60000/60000 [==============================] - 16s 275us/step - loss: 0.0330 - acc: 0.9897 - val_loss: 0.0182 - val_acc: 0.9942\n",
      "Epoch 5/45\n",
      "60000/60000 [==============================] - 17s 275us/step - loss: 0.0332 - acc: 0.9896 - val_loss: 0.0181 - val_acc: 0.9941\n",
      "Epoch 6/45\n",
      "60000/60000 [==============================] - 16s 275us/step - loss: 0.0299 - acc: 0.9906 - val_loss: 0.0161 - val_acc: 0.9944\n",
      "Epoch 7/45\n",
      "60000/60000 [==============================] - 17s 275us/step - loss: 0.0279 - acc: 0.9910 - val_loss: 0.0178 - val_acc: 0.9936\n",
      "Epoch 8/45\n",
      "60000/60000 [==============================] - 16s 275us/step - loss: 0.0274 - acc: 0.9914 - val_loss: 0.0168 - val_acc: 0.9941\n",
      "Epoch 9/45\n",
      "60000/60000 [==============================] - 16s 274us/step - loss: 0.0268 - acc: 0.9911 - val_loss: 0.0171 - val_acc: 0.9939\n",
      "Epoch 10/45\n",
      "60000/60000 [==============================] - 17s 275us/step - loss: 0.0245 - acc: 0.9923 - val_loss: 0.0161 - val_acc: 0.9951\n",
      "Epoch 11/45\n",
      "60000/60000 [==============================] - 17s 276us/step - loss: 0.0234 - acc: 0.9925 - val_loss: 0.0165 - val_acc: 0.9947\n",
      "Epoch 12/45\n",
      "60000/60000 [==============================] - 17s 275us/step - loss: 0.0233 - acc: 0.9927 - val_loss: 0.0155 - val_acc: 0.9949\n",
      "Epoch 13/45\n",
      "60000/60000 [==============================] - 16s 275us/step - loss: 0.0216 - acc: 0.9930 - val_loss: 0.0165 - val_acc: 0.9945\n",
      "Epoch 14/45\n",
      "60000/60000 [==============================] - 16s 273us/step - loss: 0.0218 - acc: 0.9930 - val_loss: 0.0177 - val_acc: 0.9949\n",
      "Epoch 15/45\n",
      "60000/60000 [==============================] - 17s 276us/step - loss: 0.0192 - acc: 0.9939 - val_loss: 0.0158 - val_acc: 0.9953\n",
      "Epoch 16/45\n",
      "60000/60000 [==============================] - 16s 275us/step - loss: 0.0213 - acc: 0.9932 - val_loss: 0.0162 - val_acc: 0.9944\n",
      "Epoch 17/45\n",
      "60000/60000 [==============================] - 17s 275us/step - loss: 0.0199 - acc: 0.9937 - val_loss: 0.0159 - val_acc: 0.9944\n",
      "Epoch 18/45\n",
      "60000/60000 [==============================] - 16s 275us/step - loss: 0.0190 - acc: 0.9937 - val_loss: 0.0149 - val_acc: 0.9949\n",
      "Epoch 19/45\n",
      "60000/60000 [==============================] - 16s 274us/step - loss: 0.0181 - acc: 0.9939 - val_loss: 0.0178 - val_acc: 0.9942\n",
      "Epoch 20/45\n",
      "60000/60000 [==============================] - 17s 275us/step - loss: 0.0178 - acc: 0.9941 - val_loss: 0.0176 - val_acc: 0.9952\n",
      "Epoch 21/45\n",
      "60000/60000 [==============================] - 17s 275us/step - loss: 0.0180 - acc: 0.9940 - val_loss: 0.0172 - val_acc: 0.9951\n",
      "Epoch 22/45\n",
      "60000/60000 [==============================] - 17s 275us/step - loss: 0.0161 - acc: 0.9944 - val_loss: 0.0168 - val_acc: 0.9948\n",
      "Epoch 23/45\n",
      "60000/60000 [==============================] - 17s 275us/step - loss: 0.0161 - acc: 0.9946 - val_loss: 0.0160 - val_acc: 0.9950\n",
      "Epoch 24/45\n",
      "60000/60000 [==============================] - 16s 275us/step - loss: 0.0133 - acc: 0.9953 - val_loss: 0.0172 - val_acc: 0.9948\n",
      "Epoch 25/45\n",
      "60000/60000 [==============================] - 16s 272us/step - loss: 0.0158 - acc: 0.9949 - val_loss: 0.0160 - val_acc: 0.9946\n",
      "Epoch 26/45\n",
      "60000/60000 [==============================] - 16s 264us/step - loss: 0.0137 - acc: 0.9954 - val_loss: 0.0181 - val_acc: 0.9949\n",
      "Epoch 27/45\n",
      "60000/60000 [==============================] - 16s 273us/step - loss: 0.0142 - acc: 0.9955 - val_loss: 0.0177 - val_acc: 0.9951\n",
      "Epoch 28/45\n",
      "60000/60000 [==============================] - 16s 274us/step - loss: 0.0170 - acc: 0.9942 - val_loss: 0.0152 - val_acc: 0.9949\n",
      "Epoch 29/45\n",
      "60000/60000 [==============================] - 16s 274us/step - loss: 0.0158 - acc: 0.9949 - val_loss: 0.0145 - val_acc: 0.9955\n",
      "Epoch 30/45\n",
      "60000/60000 [==============================] - 16s 275us/step - loss: 0.0129 - acc: 0.9958 - val_loss: 0.0194 - val_acc: 0.9947\n",
      "Epoch 31/45\n",
      "60000/60000 [==============================] - 16s 274us/step - loss: 0.0134 - acc: 0.9952 - val_loss: 0.0147 - val_acc: 0.9952\n",
      "Epoch 32/45\n",
      "60000/60000 [==============================] - 16s 274us/step - loss: 0.0128 - acc: 0.9955 - val_loss: 0.0154 - val_acc: 0.9955\n",
      "Epoch 33/45\n",
      "60000/60000 [==============================] - 16s 275us/step - loss: 0.0132 - acc: 0.9956 - val_loss: 0.0160 - val_acc: 0.9953\n",
      "Epoch 34/45\n",
      "60000/60000 [==============================] - 16s 274us/step - loss: 0.0140 - acc: 0.9950 - val_loss: 0.0155 - val_acc: 0.9951\n",
      "Epoch 35/45\n",
      "60000/60000 [==============================] - 16s 275us/step - loss: 0.0129 - acc: 0.9957 - val_loss: 0.0170 - val_acc: 0.9953\n",
      "Epoch 36/45\n",
      "60000/60000 [==============================] - 16s 274us/step - loss: 0.0130 - acc: 0.9956 - val_loss: 0.0169 - val_acc: 0.9955\n",
      "Epoch 37/45\n",
      "60000/60000 [==============================] - 16s 275us/step - loss: 0.0121 - acc: 0.9960 - val_loss: 0.0175 - val_acc: 0.9952\n",
      "Epoch 38/45\n",
      "60000/60000 [==============================] - 16s 274us/step - loss: 0.0116 - acc: 0.9959 - val_loss: 0.0172 - val_acc: 0.9955\n",
      "Epoch 39/45\n",
      "60000/60000 [==============================] - 16s 271us/step - loss: 0.0124 - acc: 0.9960 - val_loss: 0.0170 - val_acc: 0.9951\n",
      "Epoch 40/45\n",
      "60000/60000 [==============================] - 16s 269us/step - loss: 0.0112 - acc: 0.9967 - val_loss: 0.0168 - val_acc: 0.9945\n",
      "Epoch 41/45\n",
      "60000/60000 [==============================] - 16s 274us/step - loss: 0.0117 - acc: 0.9963 - val_loss: 0.0158 - val_acc: 0.9953\n",
      "Epoch 42/45\n",
      "60000/60000 [==============================] - 16s 275us/step - loss: 0.0113 - acc: 0.9962 - val_loss: 0.0186 - val_acc: 0.9951\n",
      "Epoch 43/45\n",
      "60000/60000 [==============================] - 16s 274us/step - loss: 0.0124 - acc: 0.9956 - val_loss: 0.0151 - val_acc: 0.9954\n",
      "Epoch 44/45\n",
      "60000/60000 [==============================] - 16s 273us/step - loss: 0.0114 - acc: 0.9960 - val_loss: 0.0153 - val_acc: 0.9947\n",
      "Epoch 45/45\n",
      "60000/60000 [==============================] - 16s 271us/step - loss: 0.0107 - acc: 0.9963 - val_loss: 0.0180 - val_acc: 0.9950\n"
     ]
    }
   ],
   "source": [
    "# \n",
    "\n",
    "fit_history = model.fit(x_train, y_train,\n",
    "  epochs=45 ,\n",
    "  batch_size=200,\n",
    "  validation_data=(x_test,y_test)\n",
    ")\n",
    "\n"
   ]
  },
  {
   "cell_type": "code",
   "execution_count": 118,
   "metadata": {},
   "outputs": [
    {
     "data": {
      "image/png": "[encoded data removed]",
      "text/plain": [
       "<Figure size 432x288 with 1 Axes>"
      ]
     },
     "metadata": {
      "needs_background": "light"
     },
     "output_type": "display_data"
    },
    {
     "data": {
      "image/png": "[encoded data removed]",
      "text/plain": [
       "<Figure size 432x288 with 1 Axes>"
      ]
     },
     "metadata": {
      "needs_background": "light"
     },
     "output_type": "display_data"
    }
   ],
   "source": [
    "# show procession of training...\n",
    "plt.plot(fit_history.history['loss'])\n",
    "plt.plot(fit_history.history['val_loss'])\n",
    " \n",
    "plt.title('model loss')\n",
    "plt.ylabel('loss')\n",
    "plt.xlabel('epoch')\n",
    "plt.legend(['train', 'test'], loc='upper left')\n",
    "plt.show()\n",
    "\n",
    "plt.plot(fit_history.history['acc'])\n",
    "plt.plot(fit_history.history['val_acc'])\n",
    " \n",
    "plt.title('model accuracy')\n",
    "plt.ylabel('accuracy')\n",
    "plt.xlabel('epoch')\n",
    "plt.legend(['train', 'test'], loc='upper left')\n",
    "plt.show()\n",
    "plt.close()"
   ]
  },
  {
   "cell_type": "markdown",
   "metadata": {},
   "source": [
    "### over fitting\n",
    "As you can see above, the loss and the accuracy on the training data improves, while the test loss and accuracy seem to reach a plateau.  That means you are trying to hard to get BIG accuracy on the training data set without getting any improvement on the test data (aka \"validation\" data )\n"
   ]
  }
 ],
 "metadata": {
  "kernelspec": {
   "display_name": "Python 3",
   "language": "python",
   "name": "python3"
  },
  "language_info": {
   "codemirror_mode": {
    "name": "ipython",
    "version": 3
   },
   "file_extension": ".py",
   "mimetype": "text/x-python",
   "name": "python",
   "nbconvert_exporter": "python",
   "pygments_lexer": "ipython3",
   "version": "3.6.8"
  }
 },
 "nbformat": 4,
 "nbformat_minor": 2
}
